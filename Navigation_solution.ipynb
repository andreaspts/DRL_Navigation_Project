{
 "cells": [
  {
   "cell_type": "markdown",
   "metadata": {},
   "source": [
    "# Solution to the banana navigation problem:\n",
    "\n",
    "---\n",
    "\n",
    "This notebook provides a solution to the Unity banana navigation environment.\n",
    "\n",
    "### 1. Starting the Environment\n",
    "\n",
    "We commence by importing the required packages. (Notice that dqn_agent.py encapsulates the details of the agent.):"
   ]
  },
  {
   "cell_type": "code",
   "execution_count": null,
   "metadata": {},
   "outputs": [],
   "source": [
    "import random\n",
    "import torch\n",
    "import numpy as np\n",
    "from collections import deque\n",
    "import matplotlib.pyplot as plt\n",
    "from unityagents import UnityEnvironment\n",
    "from dqn_agent import Agent"
   ]
  },
  {
   "cell_type": "markdown",
   "metadata": {},
   "source": [
    "In the next step, we start the environment:"
   ]
  },
  {
   "cell_type": "code",
   "execution_count": 2,
   "metadata": {},
   "outputs": [
    {
     "name": "stderr",
     "output_type": "stream",
     "text": [
      "INFO:unityagents:\n",
      "'Academy' started successfully!\n",
      "Unity Academy name: Academy\n",
      "        Number of Brains: 1\n",
      "        Number of External Brains : 1\n",
      "        Lesson number : 0\n",
      "        Reset Parameters :\n",
      "\t\t\n",
      "Unity brain name: BananaBrain\n",
      "        Number of Visual Observations (per agent): 0\n",
      "        Vector Observation space type: continuous\n",
      "        Vector Observation space size (per agent): 37\n",
      "        Number of stacked Vector Observation: 1\n",
      "        Vector Action space type: discrete\n",
      "        Vector Action space size (per agent): 4\n",
      "        Vector Action descriptions: , , , \n"
     ]
    }
   ],
   "source": [
    "env = UnityEnvironment(file_name=\"Banana.app\",worker_id=1, seed=1,no_graphics=True)"
   ]
  },
  {
   "cell_type": "markdown",
   "metadata": {},
   "source": [
    "Environments contain brains deciding which actions the agents should take. Here, the first brain available is set as the default brain.\n",
    "\n"
   ]
  },
  {
   "cell_type": "code",
   "execution_count": 3,
   "metadata": {},
   "outputs": [],
   "source": [
    "brain_name = env.brain_names[0]\n",
    "brain = env.brains[brain_name]"
   ]
  },
  {
   "cell_type": "markdown",
   "metadata": {},
   "source": [
    "### 2. Examination of the state and action spaces\n",
    "\n",
    "In this problem a single agent explores a large environment.  It can choose from four different actions at each time step corresponding to moving forward, backward, left and right. The state space has `37` dimensions. The agent receives a reward of `+1` when a yellow banana is collected and a reward of `-1` when a blue banana is collected.\n",
    "\n",
    "The following cell contains some overview information about the environment:"
   ]
  },
  {
   "cell_type": "code",
   "execution_count": 4,
   "metadata": {},
   "outputs": [
    {
     "name": "stdout",
     "output_type": "stream",
     "text": [
      "Number of agents: 1\n",
      "Number of actions: 4\n",
      "States look like: [0.         1.         0.         0.         0.27946243 0.\n",
      " 1.         0.         0.         0.74556106 0.         0.\n",
      " 1.         0.         0.48277503 0.         1.         0.\n",
      " 0.         0.30341193 0.         0.         1.         0.\n",
      " 0.46494457 0.         0.         1.         0.         0.08466676\n",
      " 0.         1.         0.         0.         0.95967758 0.\n",
      " 0.        ]\n",
      "States have length: 37\n"
     ]
    }
   ],
   "source": [
    "# We reset the environment. The training mode is on.\n",
    "env_info = env.reset(train_mode=True)[brain_name]\n",
    "\n",
    "# We print the number of agents in our environment.\n",
    "print('Number of agents:', len(env_info.agents))\n",
    "\n",
    "# We request the number of actions and print it.\n",
    "action_size = brain.vector_action_space_size\n",
    "print('Number of actions:', action_size)\n",
    "\n",
    "# We further examine the state space and print the type and number of states.\n",
    "state = env_info.vector_observations[0]\n",
    "print('States look like:', state)\n",
    "state_size = len(state)\n",
    "print('States have length:', state_size)"
   ]
  },
  {
   "cell_type": "markdown",
   "metadata": {},
   "source": [
    "### 3. Training of the agent\n",
    "\n",
    "The following function is responsible for the training of the agent. The agent is trained so that it uses its experience to gradually choose better actions over time. Once the agent reaches an average score of 13.0 over 100 consecutive episodes, the learned weights are saved to the checkpoint_dqn.pth file and we are done."
   ]
  },
  {
   "cell_type": "code",
   "execution_count": 5,
   "metadata": {},
   "outputs": [],
   "source": [
    "def dqn(n_episodes=3000, max_t=1000, eps_start=1.0, eps_end=0.01, eps_decay=0.995):\n",
    "    \"\"\"This function is responsible for implementing the training of the agent \n",
    "    accoring to the Deep Q-Learning algorithm.\n",
    "    \n",
    "    Arguments of the function:\n",
    "    ======\n",
    "        n_episodes (int): This is the maximum number of training episodes.\n",
    "        max_t (int): This is the maximum number of timesteps per episode allowed for the agent to explore.\n",
    "        eps_start (float): This is starting value of epsilon. We follow an epsilon-greedy action selection.\n",
    "        eps_end (float): This is the minimum value of epsilon.\n",
    "        eps_decay (float): This defines a multiplicative factor needed for decreasing epsilon per episode.\n",
    "    \"\"\"\n",
    "    \n",
    "    # First we reset the environment.\n",
    "    env_info = env.reset(train_mode=True)[brain_name]\n",
    "    # Then we get the current state from the environment.\n",
    "    state = env_info.vector_observations[0] \n",
    "    \n",
    "    # We define a list which contains the scores from each episode. It will be filled below.\n",
    "    scores = []\n",
    "    # We define scores_window to save the last 100 scores in a list-like container 'deque'.\n",
    "    scores_window = deque(maxlen=100)\n",
    "    # We initialize epsilon.\n",
    "    eps = eps_start                    \n",
    "    \n",
    "    \n",
    "    # We proceed with the essential loop for the learning algorithm. The agent acts per episode for a given number of time steps and collects rewards.\n",
    "    for i_episode in range(1, n_episodes+1):\n",
    "       \n",
    "        # Per episode we have to reset the environment.\n",
    "        env_info = env.reset(train_mode=True)[brain_name]\n",
    "        # Per episode we have to get the current state.\n",
    "        state = env_info.vector_observations[0]         \n",
    "        \n",
    "        # We set the current score to 0.\n",
    "        score = 0\n",
    "        \n",
    "        \n",
    "        # This is the internal loop which encapsulates the acting of the agent in each episode through the time steps.\n",
    "        for t in range(max_t):\n",
    "            \n",
    "            action = agent.act(state, eps)\n",
    "            # We send the action to the environment to proceed with a step.\n",
    "            env_info = env.step(action)[brain_name]\n",
    "            # We obtain the next state.\n",
    "            next_state = env_info.vector_observations[0]\n",
    "            # We get the reward.\n",
    "            reward = env_info.rewards[0]\n",
    "            # We get the done status.\n",
    "            done = env_info.local_done[0]\n",
    "            \n",
    "            # The agent takes the next step (as specified in the attached dqn_agent.py file).\n",
    "            agent.step(state, action, reward, next_state, done)\n",
    "            \n",
    "            # We update the state.\n",
    "            state = next_state\n",
    "            # We update the score value.\n",
    "            score += reward\n",
    "            \n",
    "            # If the status is done (completed) we stop this episode. Otherwise the agent continues with the exploration.\n",
    "            if done:\n",
    "                break \n",
    "                \n",
    "        \n",
    "        # With the next two lines we save most recent score.\n",
    "        scores_window.append(score)\n",
    "        scores.append(score)      \n",
    "        # We decrease the magnitude of epsilon per i_episode.\n",
    "        eps = max(eps_end, eps_decay*eps)\n",
    "        \n",
    "        # We print the average score at the corresponding number of episodes. This value is overwritten at each new episode.\n",
    "        print('\\rEpisode: {}\\tAverage Score: {:.2f}\\tsteps: {}\\tepsilon: {}'.format(i_episode, np.mean(scores_window),t,eps), end=\"\")\n",
    "        \n",
    "        # We print the average score every 100 number of episodes and keep the print.\n",
    "        if i_episode % 100 == 0:\n",
    "            print('\\rEpisode {}\\tAverage Score: {:.2f}'.format(i_episode, np.mean(scores_window)))\n",
    "        \n",
    "        # If the average score exceeds 13.0 the training is stopped and we print the corresponding number of episodes.\n",
    "        # We also do save the trained network weights in the 'checkpoint.pth' file\n",
    "        if np.mean(scores_window)>=13.0:\n",
    "            print('\\n With the given parameters the environment is solved in {:d} episodes. \\tThe precise average score is {:.2f} there.'.format(i_episode, np.mean(scores_window)))\n",
    "            torch.save(agent.qnetwork_local.state_dict(), 'checkpoint.pth')\n",
    "            break\n",
    "    \n",
    "    \n",
    "    # We return the desired scores output (to plot later on).\n",
    "    return scores"
   ]
  },
  {
   "cell_type": "markdown",
   "metadata": {},
   "source": [
    "We proceed with the actual training of the agent. A plot of rewards per episode is included which illustrates that the agent is able to receive an average reward (over 100 episodes) of at least +13.0. We also report the number of episodes which are needed to solve the environment. "
   ]
  },
  {
   "cell_type": "markdown",
   "metadata": {},
   "source": [
    "Training run 1: @ eps_decay=0.995"
   ]
  },
  {
   "cell_type": "code",
   "execution_count": 7,
   "metadata": {},
   "outputs": [],
   "source": [
    "# Define moving average functions for plotting.\n",
    "def movingaverage(values,window):\n",
    "    weights = np.repeat(1.0,window)/window\n",
    "    smas = np.convolve(values,weights,'valid')\n",
    "    return smas\n",
    "\n",
    "def ExpMovingAverage(values,window):\n",
    "    weights = np.exp(np.linspace(-1.,0.,window))\n",
    "    weights /= weights.sum()\n",
    "    \n",
    "    emas = np.convolve(values,weights)[:len(values)]\n",
    "    emas[:window] = emas[window]\n",
    "    return emas"
   ]
  },
  {
   "cell_type": "code",
   "execution_count": 9,
   "metadata": {},
   "outputs": [
    {
     "name": "stdout",
     "output_type": "stream",
     "text": [
      "Episode 100\tAverage Score: 0.599\tsteps: 299\tepsilon: 0.6057704364907278\n",
      "Episode 200\tAverage Score: 4.266\tsteps: 299\tepsilon: 0.36695782172616715\n",
      "Episode 300\tAverage Score: 7.377\tsteps: 299\tepsilon: 0.22229219984074702\n",
      "Episode 400\tAverage Score: 9.333\tsteps: 299\tepsilon: 0.13465804292601349\n",
      "Episode 500\tAverage Score: 10.811\tsteps: 299\tepsilon: 0.08157186144027828\n",
      "Episode: 561\tAverage Score: 13.02\tsteps: 299\tepsilon: 0.060082541949528794\n",
      " With the given parameters the environment is solved in 561 episodes. \tThe precise average score is 13.02 there.\n"
     ]
    },
    {
     "data": {
      "image/png": "[encoded data removed]",
      "text/plain": [
       "<Figure size 432x288 with 1 Axes>"
      ]
     },
     "metadata": {
      "needs_background": "light"
     },
     "output_type": "display_data"
    }
   ],
   "source": [
    "# We call the Agent class from dqn_agent.py and then call the learning algorithm.\n",
    "agent = Agent(state_size=37, action_size=4, seed=0)\n",
    "scores1 = dqn(n_episodes=3000, max_t=1000, eps_start=1.0, eps_end=0.01, eps_decay=0.995)\n",
    "\n",
    "# We plot the scores over the number of episodes.\n",
    "fig = plt.figure()\n",
    "ax = fig.add_subplot(111)\n",
    "plt.plot(scores1, 'b', lw=1)\n",
    "plt.plot(movingaverage(scores1,5), 'g', lw=2)\n",
    "plt.plot(ExpMovingAverage(scores1,5), 'y', lw=2)\n",
    "\n",
    "plt.plot([0, len(scores1)], [13, 13], 'r', lw=2)\n",
    "plt.ylabel('Score')\n",
    "plt.xlabel('Episode #')\n",
    "plt.show()"
   ]
  },
  {
   "cell_type": "markdown",
   "metadata": {},
   "source": [
    "Training run 2: @ eps_decay=0.95 (The agent follows a greedier policy than in Training run 1 (above) and the soft update parameter \\theta was increased in the dqn_agent.py file to 5e-3.)"
   ]
  },
  {
   "cell_type": "code",
   "execution_count": null,
   "metadata": {},
   "outputs": [],
   "source": [
    "# Define moving average functions for plotting.\n",
    "def movingaverage(values,window):\n",
    "    weights = np.repeat(1.0,window)/window\n",
    "    smas = np.convolve(values,weights,'valid')\n",
    "    return smas\n",
    "\n",
    "def ExpMovingAverage(values,window):\n",
    "    weights = np.exp(np.linspace(-1.,0.,window))\n",
    "    weights /= weights.sum()\n",
    "    \n",
    "    emas = np.convolve(values,weights)[:len(values)]\n",
    "    emas[:window] = emas[window]\n",
    "    return emas"
   ]
  },
  {
   "cell_type": "code",
   "execution_count": null,
   "metadata": {},
   "outputs": [],
   "source": [
    "# We call the Agent class from dqn_agent.py and then call the learning algorithm.\n",
    "agent = Agent(state_size=37, action_size=4, seed=0)\n",
    "scores2 = dqn(n_episodes=3000, max_t=1000, eps_start=1.0, eps_end=0.01, eps_decay=0.95)\n",
    "\n",
    "# We plot the scores over the number of episodes.\n",
    "fig = plt.figure()\n",
    "ax = fig.add_subplot(111)\n",
    "plt.plot(scores2, 'b', lw=1)\n",
    "plt.plot(movingaverage(scores2,5), 'g', lw=2)\n",
    "plt.plot(ExpMovingAverage(scores2,5), 'y', lw=2)\n",
    "\n",
    "plt.plot([0, len(scores2)], [13, 13], 'r', lw=2)\n",
    "plt.ylabel('Score')\n",
    "plt.xlabel('Episode #')\n",
    "plt.show()"
   ]
  },
  {
   "cell_type": "markdown",
   "metadata": {},
   "source": [
    "### 4. Closing the environment\n",
    "\n",
    "In the last step, we close the environment."
   ]
  },
  {
   "cell_type": "code",
   "execution_count": null,
   "metadata": {},
   "outputs": [],
   "source": [
    "env.close()"
   ]
  }
 ],
 "metadata": {
  "kernelspec": {
   "display_name": "Python 3",
   "language": "python",
   "name": "python3"
  },
  "language_info": {
   "codemirror_mode": {
    "name": "ipython",
    "version": 3
   },
   "file_extension": ".py",
   "mimetype": "text/x-python",
   "name": "python",
   "nbconvert_exporter": "python",
   "pygments_lexer": "ipython3",
   "version": "3.6.7"
  }
 },
 "nbformat": 4,
 "nbformat_minor": 2
}
